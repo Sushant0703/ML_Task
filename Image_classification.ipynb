{
  "nbformat": 4,
  "nbformat_minor": 0,
  "metadata": {
    "colab": {
      "provenance": [],
      "authorship_tag": "ABX9TyMFxUFMQDJgAusgywbPw/xk",
      "include_colab_link": true
    },
    "kernelspec": {
      "name": "python3",
      "display_name": "Python 3"
    },
    "language_info": {
      "name": "python"
    }
  },
  "cells": [
    {
      "cell_type": "markdown",
      "metadata": {
        "id": "view-in-github",
        "colab_type": "text"
      },
      "source": [
        "<a href=\"https://colab.research.google.com/github/Sushant0703/ML_Task/blob/main/Image_classification.ipynb\" target=\"_parent\"><img src=\"https://colab.research.google.com/assets/colab-badge.svg\" alt=\"Open In Colab\"/></a>"
      ]
    },
    {
      "cell_type": "code",
      "execution_count": null,
      "metadata": {
        "colab": {
          "base_uri": "https://localhost:8080/",
          "height": 1000
        },
        "id": "9FYiUOFsSrqy",
        "outputId": "72a9d188-371f-487d-fe1e-d909ef61325a"
      },
      "outputs": [
        {
          "output_type": "stream",
          "name": "stdout",
          "text": [
            "Starting MNIST Image Classification\n",
            "Dataset Loaded Successfully!\n",
            "Training images shape: (60000, 28, 28)\n",
            "Training labels shape: (60000,)\n",
            "Testing images shape: (10000, 28, 28)\n",
            "Testing labels shape: (10000,)\n",
            "\n",
            "Training the Model...\n"
          ]
        },
        {
          "output_type": "display_data",
          "data": {
            "text/plain": [
              "\u001b[1mModel: \"sequential_1\"\u001b[0m\n"
            ],
            "text/html": [
              "<pre style=\"white-space:pre;overflow-x:auto;line-height:normal;font-family:Menlo,'DejaVu Sans Mono',consolas,'Courier New',monospace\"><span style=\"font-weight: bold\">Model: \"sequential_1\"</span>\n",
              "</pre>\n"
            ]
          },
          "metadata": {}
        },
        {
          "output_type": "display_data",
          "data": {
            "text/plain": [
              "┏━━━━━━━━━━━━━━━━━━━━━━━━━━━━━━━━━━━━━━┳━━━━━━━━━━━━━━━━━━━━━━━━━━━━━┳━━━━━━━━━━━━━━━━━┓\n",
              "┃\u001b[1m \u001b[0m\u001b[1mLayer (type)                        \u001b[0m\u001b[1m \u001b[0m┃\u001b[1m \u001b[0m\u001b[1mOutput Shape               \u001b[0m\u001b[1m \u001b[0m┃\u001b[1m \u001b[0m\u001b[1m        Param #\u001b[0m\u001b[1m \u001b[0m┃\n",
              "┡━━━━━━━━━━━━━━━━━━━━━━━━━━━━━━━━━━━━━━╇━━━━━━━━━━━━━━━━━━━━━━━━━━━━━╇━━━━━━━━━━━━━━━━━┩\n",
              "│ dense_3 (\u001b[38;5;33mDense\u001b[0m)                      │ (\u001b[38;5;45mNone\u001b[0m, \u001b[38;5;34m128\u001b[0m)                 │         \u001b[38;5;34m100,480\u001b[0m │\n",
              "├──────────────────────────────────────┼─────────────────────────────┼─────────────────┤\n",
              "│ dropout_2 (\u001b[38;5;33mDropout\u001b[0m)                  │ (\u001b[38;5;45mNone\u001b[0m, \u001b[38;5;34m128\u001b[0m)                 │               \u001b[38;5;34m0\u001b[0m │\n",
              "├──────────────────────────────────────┼─────────────────────────────┼─────────────────┤\n",
              "│ dense_4 (\u001b[38;5;33mDense\u001b[0m)                      │ (\u001b[38;5;45mNone\u001b[0m, \u001b[38;5;34m64\u001b[0m)                  │           \u001b[38;5;34m8,256\u001b[0m │\n",
              "├──────────────────────────────────────┼─────────────────────────────┼─────────────────┤\n",
              "│ dropout_3 (\u001b[38;5;33mDropout\u001b[0m)                  │ (\u001b[38;5;45mNone\u001b[0m, \u001b[38;5;34m64\u001b[0m)                  │               \u001b[38;5;34m0\u001b[0m │\n",
              "├──────────────────────────────────────┼─────────────────────────────┼─────────────────┤\n",
              "│ dense_5 (\u001b[38;5;33mDense\u001b[0m)                      │ (\u001b[38;5;45mNone\u001b[0m, \u001b[38;5;34m10\u001b[0m)                  │             \u001b[38;5;34m650\u001b[0m │\n",
              "└──────────────────────────────────────┴─────────────────────────────┴─────────────────┘\n"
            ],
            "text/html": [
              "<pre style=\"white-space:pre;overflow-x:auto;line-height:normal;font-family:Menlo,'DejaVu Sans Mono',consolas,'Courier New',monospace\">┏━━━━━━━━━━━━━━━━━━━━━━━━━━━━━━━━━━━━━━┳━━━━━━━━━━━━━━━━━━━━━━━━━━━━━┳━━━━━━━━━━━━━━━━━┓\n",
              "┃<span style=\"font-weight: bold\"> Layer (type)                         </span>┃<span style=\"font-weight: bold\"> Output Shape                </span>┃<span style=\"font-weight: bold\">         Param # </span>┃\n",
              "┡━━━━━━━━━━━━━━━━━━━━━━━━━━━━━━━━━━━━━━╇━━━━━━━━━━━━━━━━━━━━━━━━━━━━━╇━━━━━━━━━━━━━━━━━┩\n",
              "│ dense_3 (<span style=\"color: #0087ff; text-decoration-color: #0087ff\">Dense</span>)                      │ (<span style=\"color: #00d7ff; text-decoration-color: #00d7ff\">None</span>, <span style=\"color: #00af00; text-decoration-color: #00af00\">128</span>)                 │         <span style=\"color: #00af00; text-decoration-color: #00af00\">100,480</span> │\n",
              "├──────────────────────────────────────┼─────────────────────────────┼─────────────────┤\n",
              "│ dropout_2 (<span style=\"color: #0087ff; text-decoration-color: #0087ff\">Dropout</span>)                  │ (<span style=\"color: #00d7ff; text-decoration-color: #00d7ff\">None</span>, <span style=\"color: #00af00; text-decoration-color: #00af00\">128</span>)                 │               <span style=\"color: #00af00; text-decoration-color: #00af00\">0</span> │\n",
              "├──────────────────────────────────────┼─────────────────────────────┼─────────────────┤\n",
              "│ dense_4 (<span style=\"color: #0087ff; text-decoration-color: #0087ff\">Dense</span>)                      │ (<span style=\"color: #00d7ff; text-decoration-color: #00d7ff\">None</span>, <span style=\"color: #00af00; text-decoration-color: #00af00\">64</span>)                  │           <span style=\"color: #00af00; text-decoration-color: #00af00\">8,256</span> │\n",
              "├──────────────────────────────────────┼─────────────────────────────┼─────────────────┤\n",
              "│ dropout_3 (<span style=\"color: #0087ff; text-decoration-color: #0087ff\">Dropout</span>)                  │ (<span style=\"color: #00d7ff; text-decoration-color: #00d7ff\">None</span>, <span style=\"color: #00af00; text-decoration-color: #00af00\">64</span>)                  │               <span style=\"color: #00af00; text-decoration-color: #00af00\">0</span> │\n",
              "├──────────────────────────────────────┼─────────────────────────────┼─────────────────┤\n",
              "│ dense_5 (<span style=\"color: #0087ff; text-decoration-color: #0087ff\">Dense</span>)                      │ (<span style=\"color: #00d7ff; text-decoration-color: #00d7ff\">None</span>, <span style=\"color: #00af00; text-decoration-color: #00af00\">10</span>)                  │             <span style=\"color: #00af00; text-decoration-color: #00af00\">650</span> │\n",
              "└──────────────────────────────────────┴─────────────────────────────┴─────────────────┘\n",
              "</pre>\n"
            ]
          },
          "metadata": {}
        },
        {
          "output_type": "display_data",
          "data": {
            "text/plain": [
              "\u001b[1m Total params: \u001b[0m\u001b[38;5;34m109,386\u001b[0m (427.29 KB)\n"
            ],
            "text/html": [
              "<pre style=\"white-space:pre;overflow-x:auto;line-height:normal;font-family:Menlo,'DejaVu Sans Mono',consolas,'Courier New',monospace\"><span style=\"font-weight: bold\"> Total params: </span><span style=\"color: #00af00; text-decoration-color: #00af00\">109,386</span> (427.29 KB)\n",
              "</pre>\n"
            ]
          },
          "metadata": {}
        },
        {
          "output_type": "display_data",
          "data": {
            "text/plain": [
              "\u001b[1m Trainable params: \u001b[0m\u001b[38;5;34m109,386\u001b[0m (427.29 KB)\n"
            ],
            "text/html": [
              "<pre style=\"white-space:pre;overflow-x:auto;line-height:normal;font-family:Menlo,'DejaVu Sans Mono',consolas,'Courier New',monospace\"><span style=\"font-weight: bold\"> Trainable params: </span><span style=\"color: #00af00; text-decoration-color: #00af00\">109,386</span> (427.29 KB)\n",
              "</pre>\n"
            ]
          },
          "metadata": {}
        },
        {
          "output_type": "display_data",
          "data": {
            "text/plain": [
              "\u001b[1m Non-trainable params: \u001b[0m\u001b[38;5;34m0\u001b[0m (0.00 B)\n"
            ],
            "text/html": [
              "<pre style=\"white-space:pre;overflow-x:auto;line-height:normal;font-family:Menlo,'DejaVu Sans Mono',consolas,'Courier New',monospace\"><span style=\"font-weight: bold\"> Non-trainable params: </span><span style=\"color: #00af00; text-decoration-color: #00af00\">0</span> (0.00 B)\n",
              "</pre>\n"
            ]
          },
          "metadata": {}
        },
        {
          "output_type": "stream",
          "name": "stdout",
          "text": [
            "Epoch 1/5\n",
            "\u001b[1m750/750\u001b[0m \u001b[32m━━━━━━━━━━━━━━━━━━━━\u001b[0m\u001b[37m\u001b[0m \u001b[1m5s\u001b[0m 5ms/step - accuracy: 0.7839 - loss: 0.7084 - val_accuracy: 0.9517 - val_loss: 0.1579\n",
            "Epoch 2/5\n",
            "\u001b[1m750/750\u001b[0m \u001b[32m━━━━━━━━━━━━━━━━━━━━\u001b[0m\u001b[37m\u001b[0m \u001b[1m4s\u001b[0m 5ms/step - accuracy: 0.9381 - loss: 0.2056 - val_accuracy: 0.9648 - val_loss: 0.1211\n",
            "Epoch 3/5\n",
            "\u001b[1m750/750\u001b[0m \u001b[32m━━━━━━━━━━━━━━━━━━━━\u001b[0m\u001b[37m\u001b[0m \u001b[1m4s\u001b[0m 5ms/step - accuracy: 0.9522 - loss: 0.1562 - val_accuracy: 0.9703 - val_loss: 0.1026\n",
            "Epoch 4/5\n",
            "\u001b[1m750/750\u001b[0m \u001b[32m━━━━━━━━━━━━━━━━━━━━\u001b[0m\u001b[37m\u001b[0m \u001b[1m6s\u001b[0m 5ms/step - accuracy: 0.9628 - loss: 0.1250 - val_accuracy: 0.9701 - val_loss: 0.0978\n",
            "Epoch 5/5\n",
            "\u001b[1m750/750\u001b[0m \u001b[32m━━━━━━━━━━━━━━━━━━━━\u001b[0m\u001b[37m\u001b[0m \u001b[1m4s\u001b[0m 6ms/step - accuracy: 0.9666 - loss: 0.1068 - val_accuracy: 0.9724 - val_loss: 0.0918\n",
            "\n",
            "Evaluating the Model...\n",
            "\n",
            "Test Accuracy: 97.34%\n",
            "Test Loss: 0.0862\n",
            "\n",
            "Visualizing Predictions...\n",
            "\u001b[1m1/1\u001b[0m \u001b[32m━━━━━━━━━━━━━━━━━━━━\u001b[0m\u001b[37m\u001b[0m \u001b[1m0s\u001b[0m 54ms/step\n"
          ]
        },
        {
          "output_type": "display_data",
          "data": {
            "text/plain": [
              "<Figure size 1500x300 with 5 Axes>"
            ],
            "image/png": "[encoded data removed]"
          },
          "metadata": {}
        }
      ],
      "source": [
        "# Importing required libraries\n",
        "import numpy as np\n",
        "import matplotlib.pyplot as plt\n",
        "import tensorflow as tf\n",
        "from tensorflow import keras\n",
        "from tensorflow.keras import layers\n",
        "from sklearn.model_selection import train_test_split\n",
        "\n",
        "# Seed for reproducibility\n",
        "np.random.seed(42)\n",
        "tf.random.set_seed(42)\n",
        "\n",
        "class MNISTClassifier:\n",
        "    def __init__(self):\n",
        "        \"\"\"\n",
        "        Initialize the MNIST Classifier\n",
        "        - Load MNIST dataset\n",
        "        - Preprocess the data\n",
        "        \"\"\"\n",
        "        # Load MNIST dataset\n",
        "        (self.x_train, self.y_train), (self.x_test, self.y_test) = keras.datasets.mnist.load_data()\n",
        "\n",
        "        # Print dataset information\n",
        "        print(\"Dataset Loaded Successfully!\")\n",
        "        print(f\"Training images shape: {self.x_train.shape}\")\n",
        "        print(f\"Training labels shape: {self.y_train.shape}\")\n",
        "        print(f\"Testing images shape: {self.x_test.shape}\")\n",
        "        print(f\"Testing labels shape: {self.y_test.shape}\")\n",
        "\n",
        "        # Preprocess the data\n",
        "        self.preprocess_data()\n",
        "\n",
        "    def preprocess_data(self):\n",
        "        \"\"\"\n",
        "        Preprocess the image data\n",
        "        - Reshape images\n",
        "        - Normalize pixel values\n",
        "        - One-hot encode labels\n",
        "        \"\"\"\n",
        "        # Reshape images (flatten and normalize)\n",
        "        self.x_train = self.x_train.reshape(-1, 28*28).astype('float32') / 255.0\n",
        "        self.x_test = self.x_test.reshape(-1, 28*28).astype('float32') / 255.0\n",
        "\n",
        "        # One-hot encode the labels\n",
        "        self.y_train = keras.utils.to_categorical(self.y_train, 10)\n",
        "        self.y_test = keras.utils.to_categorical(self.y_test, 10)\n",
        "\n",
        "    def create_model(self):\n",
        "        \"\"\"\n",
        "        Create a neural network model for digit classification\n",
        "        \"\"\"\n",
        "        model = keras.Sequential([\n",
        "            # Input layer\n",
        "            layers.Input(shape=(784,)),\n",
        "\n",
        "            # First hidden layer\n",
        "            layers.Dense(128, activation='relu'),\n",
        "            layers.Dropout(0.2),\n",
        "\n",
        "            # Second hidden layer\n",
        "            layers.Dense(64, activation='relu'),\n",
        "            layers.Dropout(0.2),\n",
        "\n",
        "            # Output layer\n",
        "            layers.Dense(10, activation='softmax')\n",
        "        ])\n",
        "\n",
        "        # Compile the model\n",
        "        model.compile(\n",
        "            optimizer='adam',\n",
        "            loss='categorical_crossentropy',\n",
        "            metrics=['accuracy']\n",
        "        )\n",
        "\n",
        "        return model\n",
        "\n",
        "    def train_model(self, epochs=10, batch_size=64):\n",
        "        \"\"\"\n",
        "        Train the neural network model\n",
        "        \"\"\"\n",
        "        # Create the model\n",
        "        self.model = self.create_model()\n",
        "\n",
        "        # Print model summary\n",
        "        self.model.summary()\n",
        "\n",
        "        # Train the model\n",
        "\n",
        "        return self.model.fit(\n",
        "            self.x_train, self.y_train,\n",
        "            validation_split=0.2,  # Use 20% of training data for validation\n",
        "            epochs=epochs,\n",
        "            batch_size=batch_size,\n",
        "            verbose=1  # Show training progress\n",
        "        )\n",
        "\n",
        "    def evaluate_model(self):\n",
        "        \"\"\"\n",
        "        Evaluate the model on test data\n",
        "        \"\"\"\n",
        "        # Evaluate the model\n",
        "        test_loss, test_accuracy = self.model.evaluate(\n",
        "            self.x_test, self.y_test, verbose=0\n",
        "        )\n",
        "\n",
        "        print(f\"\\nTest Accuracy: {test_accuracy * 100:.2f}%\")\n",
        "        print(f\"Test Loss: {test_loss:.4f}\")\n",
        "\n",
        "    def visualize_predictions(self, num_images=5):\n",
        "        \"\"\"\n",
        "        Visualize model predictions\n",
        "        \"\"\"\n",
        "        # Make predictions\n",
        "        predictions = self.model.predict(self.x_test[:num_images])\n",
        "\n",
        "        # Create visualization\n",
        "        plt.figure(figsize=(15, 3))\n",
        "        for i in range(num_images):\n",
        "            # Reconstruct the original image\n",
        "            plt.subplot(1, num_images, i+1)\n",
        "            plt.imshow(self.x_test[i].reshape(28, 28), cmap='gray')\n",
        "\n",
        "            # Get predicted and true labels\n",
        "            predicted_label = np.argmax(predictions[i])\n",
        "            true_label = np.argmax(self.y_test[i])\n",
        "\n",
        "            # Set title with prediction and true label\n",
        "            plt.title(f'Pred: {predicted_label}\\nTrue: {true_label}',\n",
        "                      color='green' if predicted_label == true_label else 'red')\n",
        "            plt.axis('off')\n",
        "\n",
        "        plt.tight_layout()\n",
        "        plt.show()\n",
        "\n",
        "def main():\n",
        "    \"\"\"\n",
        "    Main function to run the MNIST Classification\n",
        "    \"\"\"\n",
        "    print(\"Starting MNIST Image Classification\")\n",
        "\n",
        "    # Create classifier instance\n",
        "    classifier = MNISTClassifier()\n",
        "\n",
        "    # Train the model\n",
        "    print(\"\\nTraining the Model...\")\n",
        "    history = classifier.train_model(epochs=5)\n",
        "\n",
        "    # Evaluate the model\n",
        "    print(\"\\nEvaluating the Model...\")\n",
        "    classifier.evaluate_model()\n",
        "\n",
        "    # Visualize predictions\n",
        "    print(\"\\nVisualizing Predictions...\")\n",
        "    classifier.visualize_predictions()\n",
        "\n",
        "# Run the main function\n",
        "if __name__ == '__main__':\n",
        "    main()"
      ]
    }
  ]
}